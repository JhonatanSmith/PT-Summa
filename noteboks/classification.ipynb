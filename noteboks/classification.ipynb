{
 "cells": [
  {
   "cell_type": "markdown",
   "id": "d10eab36",
   "metadata": {},
   "source": [
    "# Clasificación Alpha vs Betha — Entrenamiento, Comparación y Selección del Mejor Modelo\n",
    "\n",
    "1. Carga y previsualización del dataset.\n",
    "2. Preprocesamiento (escalado numérico + One‑Hot en categóricas) y split train/valid estratificado.\n",
    "3. Entrenamiento y evaluación (CV) de varios modelos rápidos (por poder de computo)\n",
    "4. Selección del mejor modelo por **ROC AUC**.\n",
    "5. Ajuste de **umbral** para maximizar **F1 (Betha)** y evaluación en **holdout**.\n",
    "6. Gráficos: **ROC** y **Precision‑Recall**, **Matriz de confusión**.\n",
    "7. Guardado de artefactos (pipeline + umbral) y tabla de resultados.\n"
   ]
  },
  {
   "cell_type": "markdown",
   "id": "1e5da507",
   "metadata": {},
   "source": [
    "## 1) Configuración y rutas\n",
    "- Intenta cargar desde `../raw/dataset_alpha_betha.csv` (tu ruta actual).\n",
    "- Si no existe, intenta `./dataset_alpha_betha.csv`.\n",
    "- Cambia `DATA_PATH` si lo necesitas."
   ]
  },
  {
   "cell_type": "code",
   "execution_count": 13,
   "id": "3aa7f96c",
   "metadata": {},
   "outputs": [
    {
     "name": "stdout",
     "output_type": "stream",
     "text": [
      "Usando DATA_PATH: ..\\raw\\dataset_alpha_betha.csv\n"
     ]
    }
   ],
   "source": [
    "\n",
    "from pathlib import Path\n",
    "DATA_PATHS = [Path(\"../raw/dataset_alpha_betha.csv\"), Path(\"dataset_alpha_betha.csv\")]\n",
    "for p in DATA_PATHS:\n",
    "    if p.exists():\n",
    "        DATA_PATH = p\n",
    "        break\n",
    "else:\n",
    "    raise FileNotFoundError(\"No se encontró el archivo en ../raw/dataset_alpha_betha.csv ni en ./dataset_alpha_betha.csv\")\n",
    "print(\"Usando DATA_PATH:\", DATA_PATH)\n"
   ]
  },
  {
   "cell_type": "markdown",
   "id": "659c5232",
   "metadata": {},
   "source": [
    "## 2) Imports y utilidades"
   ]
  },
  {
   "cell_type": "code",
   "execution_count": 14,
   "id": "3033d95a",
   "metadata": {},
   "outputs": [],
   "source": [
    "\n",
    "import numpy as np, pandas as pd, joblib\n",
    "import matplotlib.pyplot as plt  # No seaborn (requisito)\n",
    "from sklearn.model_selection import StratifiedKFold, cross_validate, train_test_split\n",
    "from sklearn.preprocessing import OneHotEncoder, StandardScaler\n",
    "from sklearn.compose import ColumnTransformer\n",
    "from sklearn.pipeline import Pipeline\n",
    "from sklearn.metrics import (\n",
    "    make_scorer, roc_auc_score, balanced_accuracy_score, f1_score, accuracy_score,\n",
    "    precision_recall_curve, roc_curve, confusion_matrix, classification_report\n",
    ")\n",
    "from sklearn.linear_model import LogisticRegression\n",
    "from sklearn.svm import LinearSVC\n",
    "from sklearn.ensemble import HistGradientBoostingClassifier\n",
    "\n",
    "# XGB opcional (apagado por defecto para ahorrar tiempo)\n",
    "USE_XGB = False\n",
    "if USE_XGB:\n",
    "    from xgboost import XGBClassifier\n"
   ]
  },
  {
   "cell_type": "markdown",
   "id": "efec9633",
   "metadata": {},
   "source": [
    "## 3) Carga de datos y vista rápida\n",
    "Mostramos shape y primeras filas para verificar que luce como en tu ejemplo."
   ]
  },
  {
   "cell_type": "code",
   "execution_count": 15,
   "id": "099c64aa",
   "metadata": {},
   "outputs": [
    {
     "name": "stdout",
     "output_type": "stream",
     "text": [
      "(7043, 16)\n"
     ]
    },
    {
     "data": {
      "application/vnd.microsoft.datawrangler.viewer.v0+json": {
       "columns": [
        {
         "name": "index",
         "rawType": "int64",
         "type": "integer"
        },
        {
         "name": "autoid",
         "rawType": "object",
         "type": "string"
        },
        {
         "name": "seniorcity",
         "rawType": "int64",
         "type": "integer"
        },
        {
         "name": "partner",
         "rawType": "object",
         "type": "string"
        },
        {
         "name": "dependents",
         "rawType": "object",
         "type": "string"
        },
        {
         "name": "service1",
         "rawType": "object",
         "type": "string"
        },
        {
         "name": "service2",
         "rawType": "object",
         "type": "string"
        },
        {
         "name": "security",
         "rawType": "object",
         "type": "string"
        },
        {
         "name": "onlinebackup",
         "rawType": "object",
         "type": "string"
        },
        {
         "name": "deviceprotection",
         "rawType": "object",
         "type": "string"
        },
        {
         "name": "techsupport",
         "rawType": "object",
         "type": "string"
        },
        {
         "name": "contract",
         "rawType": "object",
         "type": "string"
        },
        {
         "name": "paperlessbilling",
         "rawType": "object",
         "type": "string"
        },
        {
         "name": "paymentmethod",
         "rawType": "object",
         "type": "string"
        },
        {
         "name": "charges",
         "rawType": "float64",
         "type": "float"
        },
        {
         "name": "demand",
         "rawType": "object",
         "type": "string"
        },
        {
         "name": "class",
         "rawType": "object",
         "type": "string"
        }
       ],
       "ref": "21179b68-189b-4460-96c5-d87b1c3e4116",
       "rows": [
        [
         "0",
         "7590-VHVEG",
         "0",
         "Yes",
         "No",
         "No",
         "No phone service",
         "No",
         "Yes",
         "No",
         "No",
         "Month-to-month",
         "Yes",
         "Electronic check",
         "29.85",
         "29.85",
         "Alpha"
        ],
        [
         "1",
         "5575-GNVDE",
         "0",
         "No",
         "No",
         "Yes",
         "No",
         "Yes",
         "No",
         "Yes",
         "No",
         "One year",
         "No",
         "Mailed check",
         "56.95",
         "1889.5",
         "Alpha"
        ],
        [
         "2",
         "3668-QPYBK",
         "0",
         "No",
         "No",
         "Yes",
         "No",
         "Yes",
         "Yes",
         "No",
         "No",
         "Month-to-month",
         "Yes",
         "Mailed check",
         "53.85",
         "108.15",
         "Betha"
        ]
       ],
       "shape": {
        "columns": 16,
        "rows": 3
       }
      },
      "text/html": [
       "<div>\n",
       "<style scoped>\n",
       "    .dataframe tbody tr th:only-of-type {\n",
       "        vertical-align: middle;\n",
       "    }\n",
       "\n",
       "    .dataframe tbody tr th {\n",
       "        vertical-align: top;\n",
       "    }\n",
       "\n",
       "    .dataframe thead th {\n",
       "        text-align: right;\n",
       "    }\n",
       "</style>\n",
       "<table border=\"1\" class=\"dataframe\">\n",
       "  <thead>\n",
       "    <tr style=\"text-align: right;\">\n",
       "      <th></th>\n",
       "      <th>autoid</th>\n",
       "      <th>seniorcity</th>\n",
       "      <th>partner</th>\n",
       "      <th>dependents</th>\n",
       "      <th>service1</th>\n",
       "      <th>service2</th>\n",
       "      <th>security</th>\n",
       "      <th>onlinebackup</th>\n",
       "      <th>deviceprotection</th>\n",
       "      <th>techsupport</th>\n",
       "      <th>contract</th>\n",
       "      <th>paperlessbilling</th>\n",
       "      <th>paymentmethod</th>\n",
       "      <th>charges</th>\n",
       "      <th>demand</th>\n",
       "      <th>class</th>\n",
       "    </tr>\n",
       "  </thead>\n",
       "  <tbody>\n",
       "    <tr>\n",
       "      <th>0</th>\n",
       "      <td>7590-VHVEG</td>\n",
       "      <td>0</td>\n",
       "      <td>Yes</td>\n",
       "      <td>No</td>\n",
       "      <td>No</td>\n",
       "      <td>No phone service</td>\n",
       "      <td>No</td>\n",
       "      <td>Yes</td>\n",
       "      <td>No</td>\n",
       "      <td>No</td>\n",
       "      <td>Month-to-month</td>\n",
       "      <td>Yes</td>\n",
       "      <td>Electronic check</td>\n",
       "      <td>29.85</td>\n",
       "      <td>29.85</td>\n",
       "      <td>Alpha</td>\n",
       "    </tr>\n",
       "    <tr>\n",
       "      <th>1</th>\n",
       "      <td>5575-GNVDE</td>\n",
       "      <td>0</td>\n",
       "      <td>No</td>\n",
       "      <td>No</td>\n",
       "      <td>Yes</td>\n",
       "      <td>No</td>\n",
       "      <td>Yes</td>\n",
       "      <td>No</td>\n",
       "      <td>Yes</td>\n",
       "      <td>No</td>\n",
       "      <td>One year</td>\n",
       "      <td>No</td>\n",
       "      <td>Mailed check</td>\n",
       "      <td>56.95</td>\n",
       "      <td>1889.5</td>\n",
       "      <td>Alpha</td>\n",
       "    </tr>\n",
       "    <tr>\n",
       "      <th>2</th>\n",
       "      <td>3668-QPYBK</td>\n",
       "      <td>0</td>\n",
       "      <td>No</td>\n",
       "      <td>No</td>\n",
       "      <td>Yes</td>\n",
       "      <td>No</td>\n",
       "      <td>Yes</td>\n",
       "      <td>Yes</td>\n",
       "      <td>No</td>\n",
       "      <td>No</td>\n",
       "      <td>Month-to-month</td>\n",
       "      <td>Yes</td>\n",
       "      <td>Mailed check</td>\n",
       "      <td>53.85</td>\n",
       "      <td>108.15</td>\n",
       "      <td>Betha</td>\n",
       "    </tr>\n",
       "  </tbody>\n",
       "</table>\n",
       "</div>"
      ],
      "text/plain": [
       "       autoid  seniorcity partner dependents service1          service2  \\\n",
       "0  7590-VHVEG           0     Yes         No       No  No phone service   \n",
       "1  5575-GNVDE           0      No         No      Yes                No   \n",
       "2  3668-QPYBK           0      No         No      Yes                No   \n",
       "\n",
       "  security onlinebackup deviceprotection techsupport        contract  \\\n",
       "0       No          Yes               No          No  Month-to-month   \n",
       "1      Yes           No              Yes          No        One year   \n",
       "2      Yes          Yes               No          No  Month-to-month   \n",
       "\n",
       "  paperlessbilling     paymentmethod  charges  demand  class  \n",
       "0              Yes  Electronic check    29.85   29.85  Alpha  \n",
       "1               No      Mailed check    56.95  1889.5  Alpha  \n",
       "2              Yes      Mailed check    53.85  108.15  Betha  "
      ]
     },
     "metadata": {},
     "output_type": "display_data"
    }
   ],
   "source": [
    "\n",
    "df = pd.read_csv(DATA_PATH)\n",
    "\n",
    "# Normalización de nombres (opcional)\n",
    "try:\n",
    "    import janitor as jn\n",
    "    df = jn.clean_names(df)\n",
    "except Exception:\n",
    "    pass\n",
    "\n",
    "print(df.shape)\n",
    "display(df.head(3))\n"
   ]
  },
  {
   "cell_type": "markdown",
   "id": "dc2f2241",
   "metadata": {},
   "source": [
    "## 4) Split estratificado y preprocesamiento\n",
    "- **TARGET** = `class` (Betha = 1, Alpha = 0)\n",
    "- **ID_COLS** = `autoid` (se excluye del modelado)\n",
    "- Preprocesamiento: Numéricas → `StandardScaler`; Categóricas → `OneHotEncoder` (con reducción de cardinalidad si se soporta)."
   ]
  },
  {
   "cell_type": "code",
   "execution_count": 16,
   "id": "95fc9951",
   "metadata": {},
   "outputs": [],
   "source": [
    "\n",
    "TARGET, ID_COLS = \"class\", [\"autoid\"]\n",
    "X = df.drop(columns=[TARGET] + ID_COLS, errors=\"ignore\")\n",
    "y = (df[TARGET].astype(\"category\") == \"Betha\").astype(int)\n",
    "\n",
    "num_cols = X.select_dtypes(include=\"number\").columns.tolist()\n",
    "cat_cols = X.select_dtypes(include=[\"object\",\"category\",\"bool\"]).columns.tolist()\n",
    "\n",
    "X_tr, X_va, y_tr, y_va = train_test_split(\n",
    "    X, y, test_size=0.2, stratify=y, random_state=42\n",
    ")\n",
    "\n",
    "# Preprocesador\n",
    "try:\n",
    "    preproc = ColumnTransformer(\n",
    "        transformers=[\n",
    "            (\"num\", StandardScaler(), num_cols),\n",
    "            (\"cat\", OneHotEncoder(handle_unknown=\"ignore\", sparse_output=False, min_frequency=0.01), cat_cols),\n",
    "        ],\n",
    "        remainder=\"drop\",\n",
    "        verbose_feature_names_out=True\n",
    "    )\n",
    "except TypeError:\n",
    "    preproc = ColumnTransformer(\n",
    "        transformers=[\n",
    "            (\"num\", StandardScaler(), num_cols),\n",
    "            (\"cat\", OneHotEncoder(handle_unknown=\"ignore\", sparse_output=False), cat_cols),\n",
    "        ],\n",
    "        remainder=\"drop\",\n",
    "        verbose_feature_names_out=True\n",
    "    )\n"
   ]
  },
  {
   "cell_type": "markdown",
   "id": "a6ac6c01",
   "metadata": {},
   "source": [
    "## 5) Comparación de modelos (CV 3-fold)\n",
    "Conjunto de modelos **rápidos** para comparar en poco tiempo:\n",
    "- `logreg_bal` (LogisticRegression, `class_weight='balanced'`)\n",
    "- `lin_svc` (LinearSVC) — **nota:** usa `decision_function` para AUC\n",
    "- `hgb` (HistGradientBoostingClassifier)\n",
    "- `xgb_fast` (opcional, si activas `USE_XGB=True`)\n",
    "\n",
    "**Métrica principal:** ROC AUC. También se reportan Balanced Accuracy, F1 (Betha) y Accuracy.\n"
   ]
  },
  {
   "cell_type": "code",
   "execution_count": 17,
   "id": "0e1c7f67",
   "metadata": {},
   "outputs": [
    {
     "data": {
      "application/vnd.microsoft.datawrangler.viewer.v0+json": {
       "columns": [
        {
         "name": "index",
         "rawType": "int64",
         "type": "integer"
        },
        {
         "name": "model",
         "rawType": "object",
         "type": "string"
        },
        {
         "name": "roc_auc_mean",
         "rawType": "float64",
         "type": "float"
        },
        {
         "name": "roc_auc_std",
         "rawType": "float64",
         "type": "float"
        },
        {
         "name": "bal_acc_mean",
         "rawType": "float64",
         "type": "float"
        },
        {
         "name": "bal_acc_std",
         "rawType": "float64",
         "type": "float"
        },
        {
         "name": "f1_betha_mean",
         "rawType": "float64",
         "type": "float"
        },
        {
         "name": "f1_betha_std",
         "rawType": "float64",
         "type": "float"
        },
        {
         "name": "acc_mean",
         "rawType": "float64",
         "type": "float"
        },
        {
         "name": "acc_std",
         "rawType": "float64",
         "type": "float"
        }
       ],
       "ref": "3cc9b597-6d6a-4925-a9e3-9bd0e6adff43",
       "rows": [
        [
         "0",
         "logreg_bal",
         "0.8267747273582647",
         "0.006133521466336224",
         "0.7504619531820902",
         "0.005276748040132316",
         "0.606786539078383",
         "0.004203918634268239",
         "0.7187283075740124",
         "0.0029103276780641668"
        ],
        [
         "1",
         "lin_svc",
         "0.8233535185757611",
         "0.005081343695253683",
         "0.7133040082029153",
         "0.011886560845350162",
         "0.5793110005604624",
         "0.01681088129983321",
         "0.780632578663738",
         "0.0052217038113267005"
        ],
        [
         "2",
         "hgb",
         "0.8038351510828351",
         "0.004960895491701566",
         "0.6866606241736674",
         "0.00851360403050211",
         "0.5398324177926223",
         "0.01350028827714271",
         "0.7753803652348245",
         "0.0027664484151325125"
        ]
       ],
       "shape": {
        "columns": 9,
        "rows": 3
       }
      },
      "text/html": [
       "<div>\n",
       "<style scoped>\n",
       "    .dataframe tbody tr th:only-of-type {\n",
       "        vertical-align: middle;\n",
       "    }\n",
       "\n",
       "    .dataframe tbody tr th {\n",
       "        vertical-align: top;\n",
       "    }\n",
       "\n",
       "    .dataframe thead th {\n",
       "        text-align: right;\n",
       "    }\n",
       "</style>\n",
       "<table border=\"1\" class=\"dataframe\">\n",
       "  <thead>\n",
       "    <tr style=\"text-align: right;\">\n",
       "      <th></th>\n",
       "      <th>model</th>\n",
       "      <th>roc_auc_mean</th>\n",
       "      <th>roc_auc_std</th>\n",
       "      <th>bal_acc_mean</th>\n",
       "      <th>bal_acc_std</th>\n",
       "      <th>f1_betha_mean</th>\n",
       "      <th>f1_betha_std</th>\n",
       "      <th>acc_mean</th>\n",
       "      <th>acc_std</th>\n",
       "    </tr>\n",
       "  </thead>\n",
       "  <tbody>\n",
       "    <tr>\n",
       "      <th>0</th>\n",
       "      <td>logreg_bal</td>\n",
       "      <td>0.826775</td>\n",
       "      <td>0.006134</td>\n",
       "      <td>0.750462</td>\n",
       "      <td>0.005277</td>\n",
       "      <td>0.606787</td>\n",
       "      <td>0.004204</td>\n",
       "      <td>0.718728</td>\n",
       "      <td>0.002910</td>\n",
       "    </tr>\n",
       "    <tr>\n",
       "      <th>1</th>\n",
       "      <td>lin_svc</td>\n",
       "      <td>0.823354</td>\n",
       "      <td>0.005081</td>\n",
       "      <td>0.713304</td>\n",
       "      <td>0.011887</td>\n",
       "      <td>0.579311</td>\n",
       "      <td>0.016811</td>\n",
       "      <td>0.780633</td>\n",
       "      <td>0.005222</td>\n",
       "    </tr>\n",
       "    <tr>\n",
       "      <th>2</th>\n",
       "      <td>hgb</td>\n",
       "      <td>0.803835</td>\n",
       "      <td>0.004961</td>\n",
       "      <td>0.686661</td>\n",
       "      <td>0.008514</td>\n",
       "      <td>0.539832</td>\n",
       "      <td>0.013500</td>\n",
       "      <td>0.775380</td>\n",
       "      <td>0.002766</td>\n",
       "    </tr>\n",
       "  </tbody>\n",
       "</table>\n",
       "</div>"
      ],
      "text/plain": [
       "        model  roc_auc_mean  roc_auc_std  bal_acc_mean  bal_acc_std  \\\n",
       "0  logreg_bal      0.826775     0.006134      0.750462     0.005277   \n",
       "1     lin_svc      0.823354     0.005081      0.713304     0.011887   \n",
       "2         hgb      0.803835     0.004961      0.686661     0.008514   \n",
       "\n",
       "   f1_betha_mean  f1_betha_std  acc_mean   acc_std  \n",
       "0       0.606787      0.004204  0.718728  0.002910  \n",
       "1       0.579311      0.016811  0.780633  0.005222  \n",
       "2       0.539832      0.013500  0.775380  0.002766  "
      ]
     },
     "metadata": {},
     "output_type": "display_data"
    }
   ],
   "source": [
    "\n",
    "scorers = {\n",
    "    \"roc_auc\": \"roc_auc\",\n",
    "    \"bal_acc\": make_scorer(balanced_accuracy_score),\n",
    "    \"f1_betha\": make_scorer(f1_score, average=\"binary\", pos_label=1),\n",
    "    \"accuracy\": make_scorer(accuracy_score),\n",
    "}\n",
    "\n",
    "cv = StratifiedKFold(n_splits=3, shuffle=True, random_state=42)\n",
    "\n",
    "models = {\n",
    "    \"logreg_bal\": LogisticRegression(max_iter=1000, class_weight=\"balanced\"),\n",
    "    \"lin_svc\":    LinearSVC(C=1.0, dual=\"auto\", random_state=42),\n",
    "    \"hgb\":        HistGradientBoostingClassifier(random_state=42),\n",
    "}\n",
    "if USE_XGB:\n",
    "    models[\"xgb_fast\"] = XGBClassifier(\n",
    "        n_estimators=300, max_depth=4, learning_rate=0.1,\n",
    "        subsample=0.9, colsample_bytree=0.9, eval_metric=\"logloss\",\n",
    "        tree_method=\"hist\", n_jobs=-1, random_state=42\n",
    "    )\n",
    "\n",
    "rows = []\n",
    "for name, clf in models.items():\n",
    "    pipe = Pipeline([(\"preproc\", preproc), (\"clf\", clf)])\n",
    "    cv_res = cross_validate(\n",
    "        pipe, X, y,\n",
    "        scoring=scorers,\n",
    "        cv=cv,\n",
    "        n_jobs=1,\n",
    "        return_train_score=False,\n",
    "        error_score=\"raise\"\n",
    "    )\n",
    "    rows.append({\n",
    "        \"model\": name,\n",
    "        \"roc_auc_mean\":  float(np.mean(cv_res[\"test_roc_auc\"])),\n",
    "        \"roc_auc_std\":   float(np.std(cv_res[\"test_roc_auc\"])),\n",
    "        \"bal_acc_mean\":  float(np.mean(cv_res[\"test_bal_acc\"])),\n",
    "        \"bal_acc_std\":   float(np.std(cv_res[\"test_bal_acc\"])),\n",
    "        \"f1_betha_mean\": float(np.mean(cv_res[\"test_f1_betha\"])),\n",
    "        \"f1_betha_std\":  float(np.std(cv_res[\"test_f1_betha\"])),\n",
    "        \"acc_mean\":      float(np.mean(cv_res[\"test_accuracy\"])),\n",
    "        \"acc_std\":       float(np.std(cv_res[\"test_accuracy\"])),\n",
    "    })\n",
    "\n",
    "results = pd.DataFrame(rows).sort_values(\"roc_auc_mean\", ascending=False).reset_index(drop=True)\n",
    "display(results)\n"
   ]
  },
  {
   "cell_type": "markdown",
   "id": "2e1b08d3",
   "metadata": {},
   "source": [
    "### Comentario sobre la comparación\n",
    "- Lidera `logreg_bal`, lo tomaremos como el **modelo final** por rendimiento/velocidad e interpretabilidad."
   ]
  },
  {
   "cell_type": "markdown",
   "id": "a3aea125",
   "metadata": {},
   "source": [
    "## 6) Entrenamiento del mejor modelo + ajuste de umbral (F1 Betha)\n",
    "Entrenamos el mejor modelo (por ROC AUC) en `X_tr` y evaluamos en `X_va`. Para clasificación desbalanceada, ajustamos el umbral sobre las probabilidades para maximizar **F1** de la clase Betha (1)."
   ]
  },
  {
   "cell_type": "code",
   "execution_count": 18,
   "id": "cebd3069",
   "metadata": {},
   "outputs": [
    {
     "name": "stdout",
     "output_type": "stream",
     "text": [
      "{'best_model': 'logreg_bal', 'threshold': 0.5618400677094093, 'roc_auc': 0.8153853109096075, 'balanced_accuracy': 0.7425934537187735, 'f1_betha': 0.603411513859275, 'accuracy': 0.7359829666430092}\n",
      "\n",
      "Classification report (umbral óptimo):\n",
      "\n",
      "              precision    recall  f1-score   support\n",
      "\n",
      "    Alpha(0)       0.89      0.73      0.80      1035\n",
      "    Betha(1)       0.50      0.76      0.60       374\n",
      "\n",
      "    accuracy                           0.74      1409\n",
      "   macro avg       0.70      0.74      0.70      1409\n",
      "weighted avg       0.79      0.74      0.75      1409\n",
      "\n"
     ]
    }
   ],
   "source": [
    "\n",
    "# Seleccionar mejor modelo por ROC AUC; si hay empate, preferimos logreg\n",
    "best_name = results.iloc[0][\"model\"]\n",
    "if \"logreg_bal\" in results[\"model\"].values:\n",
    "    top_auc = results[\"roc_auc_mean\"].max()\n",
    "    # Prefiere logreg si está a <= 0.002 del top (regla suave)\n",
    "    row_log = results.loc[results[\"model\"]==\"logreg_bal\"].iloc[0]\n",
    "    if (top_auc - row_log[\"roc_auc_mean\"]) <= 0.002:\n",
    "        best_name = \"logreg_bal\"\n",
    "\n",
    "clf_map = {\n",
    "    \"logreg_bal\": LogisticRegression(max_iter=1000, class_weight=\"balanced\"),\n",
    "    \"lin_svc\":    LinearSVC(C=1.0, dual=\"auto\", random_state=42),\n",
    "    \"hgb\":        HistGradientBoostingClassifier(random_state=42),\n",
    "}\n",
    "if USE_XGB:\n",
    "    from xgboost import XGBClassifier\n",
    "    clf_map[\"xgb_fast\"] = XGBClassifier(\n",
    "        n_estimators=300, max_depth=4, learning_rate=0.1,\n",
    "        subsample=0.9, colsample_bytree=0.9, eval_metric=\"logloss\",\n",
    "        tree_method=\"hist\", n_jobs=-1, random_state=42\n",
    "    )\n",
    "\n",
    "best_clf = clf_map[best_name]\n",
    "pipe = Pipeline([(\"preproc\", preproc), (\"clf\", best_clf)])\n",
    "pipe.fit(X_tr, y_tr)\n",
    "\n",
    "# Obtener puntuaciones de validación\n",
    "if hasattr(pipe.named_steps[\"clf\"], \"predict_proba\"):\n",
    "    p_va = pipe.predict_proba(X_va)[:, 1]\n",
    "else:\n",
    "    # Para LinearSVC usamos decision_function -> escalado min-max a [0,1] como proxy de probas\n",
    "    scores = pipe.decision_function(X_va)\n",
    "    # evitar constantes\n",
    "    smin, smax = np.min(scores), np.max(scores)\n",
    "    p_va = (scores - smin) / (smax - smin + 1e-12)\n",
    "\n",
    "percentiles = np.linspace(0.05, 0.95, 37)\n",
    "ths = np.quantile(p_va, percentiles)\n",
    "best = {\"th\": 0.5, \"f1\": -1.0}\n",
    "for th in np.unique(np.clip(ths, 1e-6, 1-1e-6)):\n",
    "    yhat = (p_va >= th).astype(int)\n",
    "    f1b = f1_score(y_va, yhat, average=\"binary\", pos_label=1)\n",
    "    if f1b > best[\"f1\"]:\n",
    "        best = {\"th\": float(th), \"f1\": float(f1b)}\n",
    "\n",
    "yhat_opt = (p_va >= best[\"th\"]).astype(int)\n",
    "holdout_metrics = {\n",
    "    \"best_model\": best_name,\n",
    "    \"threshold\": best[\"th\"],\n",
    "    \"roc_auc\": float(roc_auc_score(y_va, p_va)),\n",
    "    \"balanced_accuracy\": float(balanced_accuracy_score(y_va, yhat_opt)),\n",
    "    \"f1_betha\": float(f1_score(y_va, yhat_opt, average=\"binary\", pos_label=1)),\n",
    "    \"accuracy\": float(accuracy_score(y_va, yhat_opt)),\n",
    "}\n",
    "print(holdout_metrics)\n",
    "\n",
    "# Reporte\n",
    "print(\"\\nClassification report (umbral óptimo):\\n\")\n",
    "print(classification_report(y_va, yhat_opt, target_names=[\"Alpha(0)\",\"Betha(1)\"]))\n"
   ]
  },
  {
   "cell_type": "markdown",
   "id": "4b48e0d6",
   "metadata": {},
   "source": [
    "## 7) Curva ROC"
   ]
  },
  {
   "cell_type": "code",
   "execution_count": 19,
   "id": "a8911c30",
   "metadata": {},
   "outputs": [
    {
     "data": {
      "image/png": "[encoded data removed]",
      "text/plain": [
       "<Figure size 640x480 with 1 Axes>"
      ]
     },
     "metadata": {},
     "output_type": "display_data"
    }
   ],
   "source": [
    "\n",
    "fpr, tpr, _ = roc_curve(y_va, p_va)\n",
    "plt.figure()\n",
    "plt.plot(fpr, tpr, label=\"ROC\")\n",
    "plt.plot([0,1], [0,1], linestyle=\"--\")\n",
    "plt.xlabel(\"False Positive Rate\")\n",
    "plt.ylabel(\"True Positive Rate\")\n",
    "plt.title(\"ROC curve (holdout)\")\n",
    "plt.legend()\n",
    "plt.show()\n"
   ]
  },
  {
   "cell_type": "markdown",
   "id": "6fbd91bf",
   "metadata": {},
   "source": [
    "## 8) Curva Precision–Recall"
   ]
  },
  {
   "cell_type": "code",
   "execution_count": 20,
   "id": "33e39365",
   "metadata": {},
   "outputs": [
    {
     "data": {
      "image/png": "[encoded data removed]",
      "text/plain": [
       "<Figure size 640x480 with 1 Axes>"
      ]
     },
     "metadata": {},
     "output_type": "display_data"
    }
   ],
   "source": [
    "\n",
    "precision, recall, _ = precision_recall_curve(y_va, p_va)\n",
    "plt.figure()\n",
    "plt.plot(recall, precision, label=\"PR\")\n",
    "plt.xlabel(\"Recall\")\n",
    "plt.ylabel(\"Precision\")\n",
    "plt.title(\"Precision–Recall curve (holdout)\")\n",
    "plt.legend()\n",
    "plt.show()\n"
   ]
  },
  {
   "cell_type": "markdown",
   "id": "f785e252",
   "metadata": {},
   "source": [
    "## 9) Matriz de confusión (umbral óptimo)"
   ]
  },
  {
   "cell_type": "code",
   "execution_count": 21,
   "id": "2296dd00",
   "metadata": {},
   "outputs": [
    {
     "data": {
      "image/png": "[encoded data removed]",
      "text/plain": [
       "<Figure size 640x480 with 2 Axes>"
      ]
     },
     "metadata": {},
     "output_type": "display_data"
    }
   ],
   "source": [
    "\n",
    "cm = confusion_matrix(y_va, yhat_opt)\n",
    "plt.figure()\n",
    "plt.imshow(cm, interpolation='nearest')\n",
    "plt.title(\"Matriz de confusión\")\n",
    "plt.xlabel(\"Predicho\")\n",
    "plt.ylabel(\"Real\")\n",
    "for (i, j), val in np.ndenumerate(cm):\n",
    "    plt.text(j, i, f\"{val}\", ha=\"center\", va=\"center\")\n",
    "plt.colorbar()\n",
    "plt.show()\n"
   ]
  },
  {
   "cell_type": "markdown",
   "id": "f8c71470",
   "metadata": {},
   "source": [
    "## 10) Importancias / Coeficientes del modelo"
   ]
  },
  {
   "cell_type": "code",
   "execution_count": 23,
   "id": "695cf529",
   "metadata": {},
   "outputs": [
    {
     "data": {
      "application/vnd.microsoft.datawrangler.viewer.v0+json": {
       "columns": [
        {
         "name": "index",
         "rawType": "int64",
         "type": "integer"
        },
        {
         "name": "feature",
         "rawType": "object",
         "type": "string"
        },
        {
         "name": "coef",
         "rawType": "float64",
         "type": "float"
        }
       ],
       "ref": "5004f921-9c88-4534-8888-45ad1b317248",
       "rows": [
        [
         "0",
         "cat__contract_Month-to-month",
         "1.1449189964906066"
        ],
        [
         "1",
         "cat__contract_Two year",
         "-1.13483338408981"
        ],
        [
         "2",
         "num__charges",
         "0.783946090758593"
        ],
        [
         "3",
         "cat__security_Yes",
         "-0.4323102472350523"
        ],
        [
         "4",
         "cat__techsupport_Yes",
         "-0.35343947408787885"
        ],
        [
         "5",
         "cat__onlinebackup_Yes",
         "-0.3448205110709867"
        ],
        [
         "6",
         "cat__service1_Yes",
         "-0.2941459263329581"
        ],
        [
         "7",
         "cat__paymentmethod_Electronic check",
         "0.2875912928922904"
        ],
        [
         "8",
         "cat__paymentmethod_Credit card (automatic)",
         "-0.254950117400642"
        ],
        [
         "9",
         "cat__paymentmethod_Bank transfer (automatic)",
         "-0.24184122748778455"
        ],
        [
         "10",
         "cat__security_No",
         "0.23946793104603126"
        ],
        [
         "11",
         "cat__deviceprotection_Yes",
         "-0.23082544460890325"
        ],
        [
         "12",
         "cat__paperlessbilling_No",
         "-0.22956624264580577"
        ],
        [
         "13",
         "cat__service2_Yes",
         "-0.19744304592140982"
        ],
        [
         "14",
         "cat__dependents_Yes",
         "-0.1736151136751785"
        ],
        [
         "15",
         "cat__techsupport_No",
         "0.16059715789885726"
        ],
        [
         "16",
         "cat__partner_Yes",
         "-0.1555756958075119"
        ],
        [
         "17",
         "cat__service1_No",
         "0.15217866140795724"
        ],
        [
         "18",
         "cat__service2_No phone service",
         "0.15217866140795724"
        ],
        [
         "19",
         "cat__contract_One year",
         "-0.15205287732580497"
        ]
       ],
       "shape": {
        "columns": 2,
        "rows": 20
       }
      },
      "text/html": [
       "<div>\n",
       "<style scoped>\n",
       "    .dataframe tbody tr th:only-of-type {\n",
       "        vertical-align: middle;\n",
       "    }\n",
       "\n",
       "    .dataframe tbody tr th {\n",
       "        vertical-align: top;\n",
       "    }\n",
       "\n",
       "    .dataframe thead th {\n",
       "        text-align: right;\n",
       "    }\n",
       "</style>\n",
       "<table border=\"1\" class=\"dataframe\">\n",
       "  <thead>\n",
       "    <tr style=\"text-align: right;\">\n",
       "      <th></th>\n",
       "      <th>feature</th>\n",
       "      <th>coef</th>\n",
       "    </tr>\n",
       "  </thead>\n",
       "  <tbody>\n",
       "    <tr>\n",
       "      <th>0</th>\n",
       "      <td>cat__contract_Month-to-month</td>\n",
       "      <td>1.144919</td>\n",
       "    </tr>\n",
       "    <tr>\n",
       "      <th>1</th>\n",
       "      <td>cat__contract_Two year</td>\n",
       "      <td>-1.134833</td>\n",
       "    </tr>\n",
       "    <tr>\n",
       "      <th>2</th>\n",
       "      <td>num__charges</td>\n",
       "      <td>0.783946</td>\n",
       "    </tr>\n",
       "    <tr>\n",
       "      <th>3</th>\n",
       "      <td>cat__security_Yes</td>\n",
       "      <td>-0.432310</td>\n",
       "    </tr>\n",
       "    <tr>\n",
       "      <th>4</th>\n",
       "      <td>cat__techsupport_Yes</td>\n",
       "      <td>-0.353439</td>\n",
       "    </tr>\n",
       "    <tr>\n",
       "      <th>5</th>\n",
       "      <td>cat__onlinebackup_Yes</td>\n",
       "      <td>-0.344821</td>\n",
       "    </tr>\n",
       "    <tr>\n",
       "      <th>6</th>\n",
       "      <td>cat__service1_Yes</td>\n",
       "      <td>-0.294146</td>\n",
       "    </tr>\n",
       "    <tr>\n",
       "      <th>7</th>\n",
       "      <td>cat__paymentmethod_Electronic check</td>\n",
       "      <td>0.287591</td>\n",
       "    </tr>\n",
       "    <tr>\n",
       "      <th>8</th>\n",
       "      <td>cat__paymentmethod_Credit card (automatic)</td>\n",
       "      <td>-0.254950</td>\n",
       "    </tr>\n",
       "    <tr>\n",
       "      <th>9</th>\n",
       "      <td>cat__paymentmethod_Bank transfer (automatic)</td>\n",
       "      <td>-0.241841</td>\n",
       "    </tr>\n",
       "    <tr>\n",
       "      <th>10</th>\n",
       "      <td>cat__security_No</td>\n",
       "      <td>0.239468</td>\n",
       "    </tr>\n",
       "    <tr>\n",
       "      <th>11</th>\n",
       "      <td>cat__deviceprotection_Yes</td>\n",
       "      <td>-0.230825</td>\n",
       "    </tr>\n",
       "    <tr>\n",
       "      <th>12</th>\n",
       "      <td>cat__paperlessbilling_No</td>\n",
       "      <td>-0.229566</td>\n",
       "    </tr>\n",
       "    <tr>\n",
       "      <th>13</th>\n",
       "      <td>cat__service2_Yes</td>\n",
       "      <td>-0.197443</td>\n",
       "    </tr>\n",
       "    <tr>\n",
       "      <th>14</th>\n",
       "      <td>cat__dependents_Yes</td>\n",
       "      <td>-0.173615</td>\n",
       "    </tr>\n",
       "    <tr>\n",
       "      <th>15</th>\n",
       "      <td>cat__techsupport_No</td>\n",
       "      <td>0.160597</td>\n",
       "    </tr>\n",
       "    <tr>\n",
       "      <th>16</th>\n",
       "      <td>cat__partner_Yes</td>\n",
       "      <td>-0.155576</td>\n",
       "    </tr>\n",
       "    <tr>\n",
       "      <th>17</th>\n",
       "      <td>cat__service1_No</td>\n",
       "      <td>0.152179</td>\n",
       "    </tr>\n",
       "    <tr>\n",
       "      <th>18</th>\n",
       "      <td>cat__service2_No phone service</td>\n",
       "      <td>0.152179</td>\n",
       "    </tr>\n",
       "    <tr>\n",
       "      <th>19</th>\n",
       "      <td>cat__contract_One year</td>\n",
       "      <td>-0.152053</td>\n",
       "    </tr>\n",
       "  </tbody>\n",
       "</table>\n",
       "</div>"
      ],
      "text/plain": [
       "                                         feature      coef\n",
       "0                   cat__contract_Month-to-month  1.144919\n",
       "1                         cat__contract_Two year -1.134833\n",
       "2                                   num__charges  0.783946\n",
       "3                              cat__security_Yes -0.432310\n",
       "4                           cat__techsupport_Yes -0.353439\n",
       "5                          cat__onlinebackup_Yes -0.344821\n",
       "6                              cat__service1_Yes -0.294146\n",
       "7            cat__paymentmethod_Electronic check  0.287591\n",
       "8     cat__paymentmethod_Credit card (automatic) -0.254950\n",
       "9   cat__paymentmethod_Bank transfer (automatic) -0.241841\n",
       "10                              cat__security_No  0.239468\n",
       "11                     cat__deviceprotection_Yes -0.230825\n",
       "12                      cat__paperlessbilling_No -0.229566\n",
       "13                             cat__service2_Yes -0.197443\n",
       "14                           cat__dependents_Yes -0.173615\n",
       "15                           cat__techsupport_No  0.160597\n",
       "16                              cat__partner_Yes -0.155576\n",
       "17                              cat__service1_No  0.152179\n",
       "18                cat__service2_No phone service  0.152179\n",
       "19                        cat__contract_One year -0.152053"
      ]
     },
     "metadata": {},
     "output_type": "display_data"
    }
   ],
   "source": [
    "\n",
    "try:\n",
    "    feat_names = pipe.named_steps[\"preproc\"].get_feature_names_out()\n",
    "except Exception:\n",
    "    feat_names = None\n",
    "\n",
    "if best_name == \"logreg_bal\" and feat_names is not None:\n",
    "    coefs = pipe.named_steps[\"clf\"].coef_.ravel()\n",
    "    coef_df = (pd.DataFrame({\"feature\": feat_names, \"coef\": coefs, \"abs_coef\": np.abs(coefs)})\n",
    "               .sort_values(\"abs_coef\", ascending=False)\n",
    "               .head(20)\n",
    "               .drop(columns=[\"abs_coef\"])\n",
    "               .reset_index(drop=True))\n",
    "    display(coef_df)\n",
    "elif best_name == \"hgb\" and feat_names is not None:\n",
    "    # HistGradientBoosting no expone importancias clásicas; podemos usar perm_importance si quieres.\n",
    "    print(\"HistGradientBoosting no expone importancias directas. (Puedes usar permutation_importance si deseas).\")\n",
    "elif best_name == \"lin_svc\" and feat_names is not None:\n",
    "    coefs = pipe.named_steps[\"clf\"].coef_.ravel()\n",
    "    coef_df = (pd.DataFrame({\"feature\": feat_names, \"coef\": coefs, \"abs_coef\": np.abs(coefs)})\n",
    "               .sort_values(\"abs_coef\", ascending=False)\n",
    "               .head(20)\n",
    "               .drop(columns=[\"abs_coef\"])\n",
    "               .reset_index(drop=True))\n",
    "    print(coef_df)\n",
    "else:\n",
    "    print(\"No fue posible extraer importancias/coeficientes con la configuración actual.\")\n"
   ]
  },
  {
   "cell_type": "markdown",
   "id": "2d9b5d5e",
   "metadata": {},
   "source": [
    "# Resultados del Modelo de Clasificación\n",
    "\n",
    "## Métricas de Desempeño\n",
    "- **ROC AUC ≈ 0.82:** Muy buen separador global de clases.  \n",
    "- **Balanced Accuracy ≈ 0.74:** Buen equilibrio entre sensibilidad y especificidad.  \n",
    "- **Recall Betha ≈ 0.76:** Buena detección de casos positivos (ver *classification report*).  \n",
    "- **Precisión Betha ≈ 0.50:** Esperable dado que la clase es minoritaria; puede compensarse ajustando el umbral si se busca mayor recall.  \n",
    "- **Matriz de Confusión:**  \n",
    "  - Aproximadamente 91 falsos negativos (Betha no detectados).  \n",
    "  - Aproximadamente 281 falsos positivos (Alpha clasificados como Betha).  \n",
    "  - Aceptable si se prioriza minimizar falsos negativos.\n",
    "\n",
    "---\n",
    "\n",
    "## Análisis de Variables\n",
    "- **Tipo de contrato:** Diferencias claras entre Month-to-month y Two year; mayor poder predictivo.  \n",
    "- **Cargos, seguridad, soporte técnico y métodos de pago** influyen fuertemente en la predicción.  \n",
    "- **Signo del coeficiente:** Determina el impacto positivo o negativo en la probabilidad de ser Betha.  \n",
    "\n",
    "---\n",
    "\n",
    "## Conclusión\n",
    "- **Modelo seleccionado:** Logistic Regression con balance de clases; destaca por interpretabilidad y velocidad.  \n",
    "- **Artefactos generados:**  \n",
    "  - `model_best_pipeline.joblib`  \n",
    "  - `model_best_threshold.txt`  \n"
   ]
  }
 ],
 "metadata": {
  "kernelspec": {
   "display_name": "Python 3",
   "language": "python",
   "name": "python3"
  },
  "language_info": {
   "name": "python",
   "version": "3.x"
  }
 },
 "nbformat": 4,
 "nbformat_minor": 5
}
